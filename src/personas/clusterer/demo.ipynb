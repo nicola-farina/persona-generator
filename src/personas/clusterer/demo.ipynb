{
 "cells": [
  {
   "cell_type": "code",
   "execution_count": 2,
   "metadata": {
    "collapsed": true
   },
   "outputs": [],
   "source": [
    "import pandas as pd\n",
    "import numpy as np\n",
    "import matplotlib.pyplot as plt\n",
    "import seaborn as sns\n",
    "sns.set()\n",
    "from kmodes.kmodes import KModes\n",
    "from sklearn.preprocessing import LabelEncoder\n",
    "from kneed import KneeLocator\n",
    "\n",
    "from personas.common.database import Database"
   ]
  },
  {
   "cell_type": "code",
   "execution_count": 41,
   "outputs": [],
   "source": [
    "db = Database(db=1)\n",
    "\n",
    "uhopper_id = \"223439979\"\n",
    "brand = db.get_brand(uhopper_id)\n",
    "\n",
    "users = brand.followers"
   ],
   "metadata": {
    "collapsed": false,
    "pycharm": {
     "name": "#%%\n"
    }
   }
  },
  {
   "cell_type": "code",
   "execution_count": 42,
   "outputs": [
    {
     "data": {
      "text/plain": "                   id_                                        name  gender  \\\n0            226874885                              Andrea Orlando  female   \n1  1347990208596336642  POP OUT  Rete Nazionale Pubblicità Esterna    None   \n2            471106799                             Karol Hanczarek  female   \n3  1224055543184199683                                     Martina  female   \n4  1366794177669984258                               Nicola Farina  female   \n\n                        location  \\\n0                    SaaS life 👉   \n1                         Italia   \n2                                  \n3  Cavedine, Trentino-Alto Adige   \n4                  Verona, Italy   \n\n                                   profile_image_url  \\\n0  https://pbs.twimg.com/profile_images/130020511...   \n1  https://pbs.twimg.com/profile_images/134799047...   \n2  https://pbs.twimg.com/profile_images/955957976...   \n3  https://pbs.twimg.com/profile_images/135701641...   \n4  https://pbs.twimg.com/profile_images/137156783...   \n\n                                           biography        type_  \\\n0  Managing Partner @startupwiseguys 🇮🇹 | @insead...  anthroponym   \n1  Account della Rete Nazionale di Pubblicità Est...   brand-name   \n2                                                     anthroponym   \n3  📚 Industrial Engineering Trento💎 design & tech...  anthroponym   \n4  Absolute mountain enthusiast! Studying Compute...  anthroponym   \n\n  pref_language                                               site  \\\n0            en               https://www.startupwiseguys.com/saas   \n1            it  https://m.facebook.com/profile.php?id=10582547...   \n2            en                                               None   \n3            it                                               None   \n4            it                                               None   \n\n  followers_count following_count  \\\n0            1017            1737   \n1              75             132   \n2              36             234   \n3               4              76   \n4               0               8   \n\n                                               posts  \n0  [<personas.common.post.Post object at 0x7f692e...  \n1  [<personas.common.post.Post object at 0x7f692c...  \n2  [<personas.common.post.Post object at 0x7f6928...  \n3  [<personas.common.post.Post object at 0x7f6927...  \n4  [<personas.common.post.Post object at 0x7f6927...  ",
      "text/html": "<div>\n<style scoped>\n    .dataframe tbody tr th:only-of-type {\n        vertical-align: middle;\n    }\n\n    .dataframe tbody tr th {\n        vertical-align: top;\n    }\n\n    .dataframe thead th {\n        text-align: right;\n    }\n</style>\n<table border=\"1\" class=\"dataframe\">\n  <thead>\n    <tr style=\"text-align: right;\">\n      <th></th>\n      <th>id_</th>\n      <th>name</th>\n      <th>gender</th>\n      <th>location</th>\n      <th>profile_image_url</th>\n      <th>biography</th>\n      <th>type_</th>\n      <th>pref_language</th>\n      <th>site</th>\n      <th>followers_count</th>\n      <th>following_count</th>\n      <th>posts</th>\n    </tr>\n  </thead>\n  <tbody>\n    <tr>\n      <th>0</th>\n      <td>226874885</td>\n      <td>Andrea Orlando</td>\n      <td>female</td>\n      <td>SaaS life 👉</td>\n      <td>https://pbs.twimg.com/profile_images/130020511...</td>\n      <td>Managing Partner @startupwiseguys 🇮🇹 | @insead...</td>\n      <td>anthroponym</td>\n      <td>en</td>\n      <td>https://www.startupwiseguys.com/saas</td>\n      <td>1017</td>\n      <td>1737</td>\n      <td>[&lt;personas.common.post.Post object at 0x7f692e...</td>\n    </tr>\n    <tr>\n      <th>1</th>\n      <td>1347990208596336642</td>\n      <td>POP OUT  Rete Nazionale Pubblicità Esterna</td>\n      <td>None</td>\n      <td>Italia</td>\n      <td>https://pbs.twimg.com/profile_images/134799047...</td>\n      <td>Account della Rete Nazionale di Pubblicità Est...</td>\n      <td>brand-name</td>\n      <td>it</td>\n      <td>https://m.facebook.com/profile.php?id=10582547...</td>\n      <td>75</td>\n      <td>132</td>\n      <td>[&lt;personas.common.post.Post object at 0x7f692c...</td>\n    </tr>\n    <tr>\n      <th>2</th>\n      <td>471106799</td>\n      <td>Karol Hanczarek</td>\n      <td>female</td>\n      <td></td>\n      <td>https://pbs.twimg.com/profile_images/955957976...</td>\n      <td></td>\n      <td>anthroponym</td>\n      <td>en</td>\n      <td>None</td>\n      <td>36</td>\n      <td>234</td>\n      <td>[&lt;personas.common.post.Post object at 0x7f6928...</td>\n    </tr>\n    <tr>\n      <th>3</th>\n      <td>1224055543184199683</td>\n      <td>Martina</td>\n      <td>female</td>\n      <td>Cavedine, Trentino-Alto Adige</td>\n      <td>https://pbs.twimg.com/profile_images/135701641...</td>\n      <td>📚 Industrial Engineering Trento💎 design &amp; tech...</td>\n      <td>anthroponym</td>\n      <td>it</td>\n      <td>None</td>\n      <td>4</td>\n      <td>76</td>\n      <td>[&lt;personas.common.post.Post object at 0x7f6927...</td>\n    </tr>\n    <tr>\n      <th>4</th>\n      <td>1366794177669984258</td>\n      <td>Nicola Farina</td>\n      <td>female</td>\n      <td>Verona, Italy</td>\n      <td>https://pbs.twimg.com/profile_images/137156783...</td>\n      <td>Absolute mountain enthusiast! Studying Compute...</td>\n      <td>anthroponym</td>\n      <td>it</td>\n      <td>None</td>\n      <td>0</td>\n      <td>8</td>\n      <td>[&lt;personas.common.post.Post object at 0x7f6927...</td>\n    </tr>\n  </tbody>\n</table>\n</div>"
     },
     "execution_count": 42,
     "metadata": {},
     "output_type": "execute_result"
    }
   ],
   "source": [
    "# Create users dataframe\n",
    "users_dict = [user.__dict__ for user in users]\n",
    "df_users = pd.DataFrame(users_dict)\n",
    "\n",
    "df_users.head()"
   ],
   "metadata": {
    "collapsed": false,
    "pycharm": {
     "name": "#%%\n"
    }
   }
  },
  {
   "cell_type": "code",
   "execution_count": 43,
   "outputs": [],
   "source": [
    "cols_to_drop = [\"id_\", \"name\", \"location\", \"profile_image_url\", \"biography\", \"site\", \"followers_count\",\n",
    "           \"following_count\", \"posts\", \"type_\"]\n",
    "cols_to_cluster = [col for col in df_users.columns if col not in cols_to_drop]"
   ],
   "metadata": {
    "collapsed": false,
    "pycharm": {
     "name": "#%%\n"
    }
   }
  },
  {
   "cell_type": "code",
   "execution_count": 44,
   "outputs": [],
   "source": [
    "# Drop rows with brand type\n",
    "df_users = df_users[df_users[\"type_\"] != \"brand-name\"]\n",
    "\n",
    "# Drop rows which contain \"NaN\" values\n",
    "df_users.fillna(value=np.nan, inplace=True)\n",
    "df_users.dropna(inplace=True, subset=cols_to_cluster)"
   ],
   "metadata": {
    "collapsed": false,
    "pycharm": {
     "name": "#%%\n"
    }
   }
  },
  {
   "cell_type": "code",
   "execution_count": 45,
   "outputs": [
    {
     "name": "stdout",
     "output_type": "stream",
     "text": [
      "5\n"
     ]
    }
   ],
   "source": [
    "# PREPARE DATAFRAME FOR CLUSTERING\n",
    "df_cluster = df_users.copy(deep=True)\n",
    "\n",
    "# Replace posts with the number of posts\n",
    "df_cluster[\"posts\"] = [len(posts) for posts in df_cluster[\"posts\"]]\n",
    "\n",
    "# Categorize users into active and popular\n",
    "df_cluster[\"active\"] = [1 if posts >= 100 else 0 for posts in df_cluster[\"posts\"]]\n",
    "df_cluster[\"popular\"] = [1 if int(followers) >= 100 else 0 for followers in df_cluster[\"followers_count\"]]\n",
    "\n",
    "# Drop irrelevant columns for clustering\n",
    "df_cluster.drop(cols_to_drop, axis=1, inplace=True)\n",
    "\n",
    "# Label-encode categorical columns\n",
    "gender_encoder = LabelEncoder()\n",
    "df_cluster[\"gender\"] = gender_encoder.fit_transform(df_cluster[\"gender\"])\n",
    "\n",
    "lang_encoder = LabelEncoder()\n",
    "df_cluster[\"pref_language\"] = lang_encoder.fit_transform(df_cluster[\"pref_language\"])\n",
    "\n",
    "# Find optimal number of clusters (KModes)\n",
    "costs = []\n",
    "kmax = 15\n",
    "\n",
    "for k in range(1, kmax+1):\n",
    "    kmodes = KModes(n_clusters=k, init=\"Cao\")\n",
    "    kmodes.fit(df_cluster)\n",
    "    costs.append(kmodes.cost_)\n",
    "\n",
    "kn = KneeLocator(range(1, kmax + 1), costs, curve=\"convex\", direction=\"decreasing\")\n",
    "number_clusters = kn.knee\n",
    "\n",
    "print(number_clusters)"
   ],
   "metadata": {
    "collapsed": false,
    "pycharm": {
     "name": "#%%\n"
    }
   }
  },
  {
   "cell_type": "code",
   "execution_count": 47,
   "outputs": [],
   "source": [
    "# Perform clustering\n",
    "kmodes = KModes(n_clusters=number_clusters, init=\"Cao\")\n",
    "clusters = kmodes.fit_predict(df_cluster)\n",
    "centroids = kmodes.cluster_centroids_"
   ],
   "metadata": {
    "collapsed": false,
    "pycharm": {
     "name": "#%%\n"
    }
   }
  },
  {
   "cell_type": "code",
   "execution_count": 38,
   "outputs": [
    {
     "name": "stdout",
     "output_type": "stream",
     "text": [
      "[{'gender': 'male', 'pref_language': 'en', 'active': 1, 'popular': 1, 'cluster': 0}, {'gender': 'female', 'pref_language': 'it', 'active': 1, 'popular': 1, 'cluster': 1}, {'gender': 'female', 'pref_language': 'en', 'active': 0, 'popular': 0, 'cluster': 2}, {'gender': 'female', 'pref_language': 'fr', 'active': 1, 'popular': 1, 'cluster': 3}, {'gender': 'male', 'pref_language': 'en', 'active': 0, 'popular': 0, 'cluster': 4}]\n"
     ]
    }
   ],
   "source": [
    "centroids_df = pd.DataFrame(kmodes.cluster_centroids_, columns=df_cluster.columns)\n",
    "centroids_df[\"gender\"] = gender_encoder.inverse_transform(centroids_df[\"gender\"])\n",
    "centroids_df[\"pref_language\"] = lang_encoder.inverse_transform(centroids_df[\"pref_language\"])\n",
    "centroids_df[\"cluster\"] = centroids_df.index\n",
    "\n",
    "centroids_dict = centroids_df.to_dict(\"records\")\n",
    "print(centroids_dict)"
   ],
   "metadata": {
    "collapsed": false,
    "pycharm": {
     "name": "#%%\n"
    }
   }
  },
  {
   "cell_type": "code",
   "execution_count": 13,
   "outputs": [
    {
     "name": "stdout",
     "output_type": "stream",
     "text": [
      "257\n"
     ]
    }
   ],
   "source": [
    "# Add cluster attribute to original dataframe\n",
    "df_users[\"cluster\"] = clusters\n",
    "\n",
    "i, j = 0, 0\n",
    "while j < len(df_users):\n",
    "    follower = brand.followers[i]\n",
    "    clustered = df_users.iloc[j]\n",
    "    if follower.id_ == clustered.id_:\n",
    "        follower.cluster = clustered.cluster\n",
    "        j += 1\n",
    "    i += 1\n",
    "\n",
    "z = 0\n",
    "for follower in brand.followers:\n",
    "    x = getattr(follower, \"cluster\", None)\n",
    "    if x is not None:\n",
    "        z += 1\n",
    "print(z)"
   ],
   "metadata": {
    "collapsed": false,
    "pycharm": {
     "name": "#%%\n"
    }
   }
  }
 ],
 "metadata": {
  "kernelspec": {
   "display_name": "Python 3",
   "language": "python",
   "name": "python3"
  },
  "language_info": {
   "codemirror_mode": {
    "name": "ipython",
    "version": 2
   },
   "file_extension": ".py",
   "mimetype": "text/x-python",
   "name": "python",
   "nbconvert_exporter": "python",
   "pygments_lexer": "ipython2",
   "version": "2.7.6"
  }
 },
 "nbformat": 4,
 "nbformat_minor": 0
}